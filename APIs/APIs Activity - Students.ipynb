{
 "cells": [
  {
   "cell_type": "markdown",
   "metadata": {},
   "source": [
    "# <center>Connecting to and interacting with an API"
   ]
  },
  {
   "cell_type": "markdown",
   "metadata": {},
   "source": [
    "## <center>A pair programming activity"
   ]
  },
  {
   "cell_type": "markdown",
   "metadata": {},
   "source": [
    "<img src='genius.jpeg'>"
   ]
  },
  {
   "cell_type": "markdown",
   "metadata": {},
   "source": [
    "# <center>Genius API\n",
    "## <center>The world's biggest collection of song lyrics and musical knowledge"
   ]
  },
  {
   "cell_type": "markdown",
   "metadata": {},
   "source": [
    "<center>In this pair programming activity, you will connect to the Genius API in order to obtain song lyric data."
   ]
  },
  {
   "cell_type": "markdown",
   "metadata": {},
   "source": [
    "### Create an account to gain access"
   ]
  },
  {
   "cell_type": "markdown",
   "metadata": {},
   "source": [
    "Go to the developer page at https://genius.com/developers. You will have to create a Genius account if you don't already have one."
   ]
  },
  {
   "cell_type": "markdown",
   "metadata": {},
   "source": [
    "Then you will want to create a new API client."
   ]
  },
  {
   "cell_type": "markdown",
   "metadata": {},
   "source": [
    "<img src='api_client.png'>"
   ]
  },
  {
   "cell_type": "markdown",
   "metadata": {},
   "source": [
    "You can choose any name for the app. For the website URL, you could just use your Github page.<br><br>\n",
    "<b>Note</b>: The URL must be a full URL with 'http://' in the front."
   ]
  },
  {
   "cell_type": "markdown",
   "metadata": {},
   "source": [
    "<img src='api_client2.png'>"
   ]
  },
  {
   "cell_type": "markdown",
   "metadata": {},
   "source": [
    "You should see something similar to the above. <br><br>\n",
    "If you click on 'Generate Access Token' you will be provided with a string that you will need to copy to your clipboard. Genius uses OAuth2 for making API calls so you will need to be passing the token into your calls.<br><br>\n",
    "With your token copied, you're now ready to start connecting to the API."
   ]
  },
  {
   "cell_type": "markdown",
   "metadata": {},
   "source": [
    "### Check out documentation"
   ]
  },
  {
   "cell_type": "markdown",
   "metadata": {},
   "source": [
    "Take a couple minutes to browse through the documentation found at https://docs.genius.com/. <br> <br>\n",
    "Take note of what kinds of information is available through this API and what header data is needed to make certain calls. <br><br>\n",
    "Keep the documentation open in a separate tab as you'll want to come back to it for reference."
   ]
  },
  {
   "cell_type": "markdown",
   "metadata": {},
   "source": [
    "### Preparing for requests"
   ]
  },
  {
   "cell_type": "markdown",
   "metadata": {},
   "source": [
    "In the cells below:<br>\n",
    "- Import the <b>requests</b> library\n",
    "- Create a <b>base_url</b> string containing the base URL for the API (https://api.genius.com)\n",
    "- Create a <b>headers</b> dictionary containing the key, <i>Authorization</i> and the value <i>Bearer </i> + your client access token. (Note: There should be a space in between 'Bearer' and the token.)"
   ]
  },
  {
   "cell_type": "code",
   "execution_count": null,
   "metadata": {},
   "outputs": [],
   "source": []
  },
  {
   "cell_type": "code",
   "execution_count": null,
   "metadata": {},
   "outputs": [],
   "source": []
  },
  {
   "cell_type": "code",
   "execution_count": null,
   "metadata": {},
   "outputs": [],
   "source": []
  },
  
  {
   "cell_type": "markdown",
   "metadata": {},
   "source": [
    "### Search for a song"
   ]
  },
  {
   "cell_type": "markdown",
   "metadata": {},
   "source": [
    "Now let's try looking up a specific song and see what kind of info we can get on it."
   ]
  },
  {
   "cell_type": "markdown",
   "metadata": {},
   "source": [
    "If you look at the <b>/songs/</b> endpoint in the documentation, you'll notice that you need the ID for the song. <br><br>\n",
    "In order to get a song ID, we will first need to search for a song and then grab its ID. <br><br>\n",
    "We can do this through the <b>/search</b> endpoint which allows us to enter search terms such as song title, artist, and album.<br><br>\n",
    "Take a look at the documention for the search endpoint - https://docs.genius.com/#/search-h2. <br><br>\n",
    "To make a call to this endpoint, we need to pass in some data: a key called <b>q</b> and our search terms."
   ]
  },
  {
   "cell_type": "markdown",
   "metadata": {},
   "source": [
    "In the cells below:<br>\n",
    "- First decide on a song you want to look up\n",
    "- Create a <b>data</b> dictionary containing the key, <b>q</b> and the value the search terms for your song.\n",
    "- Create a search_url by appending the base_url with <b>/search</b>\n",
    "- Make a request to the search_url, passing in the arguments data=data and headers=headers and get the response.\n",
    "- Under the 'response' dictionary, iterate through the 'hits' sub-dictionary until you find the correct song you searched for.\n",
    "- Once you find the correct song, grab and store its ID as song_id."
   ]
  },
  {
   "cell_type": "markdown",
   "metadata": {},
   "source": [
    "<b>Hint:</b> The 'hits' sub-dictionary has a dictionary object called 'result' which contains 'title' (the song title), another dictionary 'primary_artist' (which has a key called 'name' to get the artist's name), and an 'id' value."
   ]
  },
  {
   "cell_type": "code",
   "execution_count": null,
   "metadata": {},
   "outputs": [],
   "source": []
  },
  {
   "cell_type": "code",
   "execution_count": null,
   "metadata": {},
   "outputs": [],
   "source": []
  },
  {
   "cell_type": "code",
   "execution_count": null,
   "metadata": {},
   "outputs": [],
   "source": []
  },
  {
   "cell_type": "code",
   "execution_count": null,
   "metadata": {},
   "outputs": [],
   "source": []
  },
  {
   "cell_type": "code",
   "execution_count": null,
   "metadata": {},
   "outputs": [],
   "source": []
  },
  {
   "cell_type": "code",
   "execution_count": null,
   "metadata": {},
   "outputs": [],
   "source": []
  },
  {
   "cell_type": "code",
   "execution_count": null,
   "metadata": {},
   "outputs": [],
   "source": []
  },
  {
   "cell_type": "markdown",
   "metadata": {},
   "source": [
    "### Lookup a song"
   ]
  },
  {
   "cell_type": "markdown",
   "metadata": {},
   "source": [
    "Now that we have the ID for our song, we can use the '/songs/' endpoint to look it up."
   ]
  },
  {
   "cell_type": "markdown",
   "metadata": {},
   "source": [
    "In the cells below:<br>\n",
    "- Create a songs_url consisting of the base_url + '/songs/' + the song_id.\n",
    "- Make a request to the songs_url, passing in the argument headers=headers and get the response.\n",
    "- Explore the 'response' dictionary. What info can we get on a song?\n",
    "- Grab the URL for the lyrics page for the song and store it as lyrics_url."
   ]
  },
  {
   "cell_type": "code",
   "execution_count": null,
   "metadata": {},
   "outputs": [],
   "source": []
  },
  {
   "cell_type": "code",
   "execution_count": null,
   "metadata": {},
   "outputs": [],
   "source": []
  },
  {
   "cell_type": "code",
   "execution_count": null,
   "metadata": {},
   "outputs": [],
   "source": []
  },
  {
   "cell_type": "code",
   "execution_count": null,
   "metadata": {},
   "outputs": [],
   "source": []
  },
  {
   "cell_type": "code",
   "execution_count": null,
   "metadata": {},
   "outputs": [],
   "source": []
  },
  {
   "cell_type": "markdown",
   "metadata": {},
   "source": [
    "As a preview of what's to come in the next section with web scraping, we can use the lyrics_url you just grabbed to print out the lyrics to the song. <br><br>\n",
    "You don't have to worry too much about what the following cell contains or how it works. It basically is creating a request to the URL for the lyrics, scanning the page for where the lyrics are, and then grabbing the lyrics as text and returning them. <br><br>\n",
    "This uses a library called BeautifulSoup. You may have to install it first by running 'pip install bs4' in your terminal. <br><br>\n",
    "Go ahead and run the cells below. Just something cool to check out!"
   ]
  },
  {
   "cell_type": "code",
   "execution_count": null,
   "metadata": {},
   "outputs": [],
   "source": [
    "from bs4 import BeautifulSoup\n",
    "\n",
    "def scrape_song_url(url):\n",
    "    page = requests.get(url)\n",
    "    html = BeautifulSoup(page.text, 'html.parser')\n",
    "    lyrics = html.find('div', class_='lyrics').get_text()\n",
    "    return lyrics"
   ]
  },
  {
   "cell_type": "code",
   "execution_count": null,
   "metadata": {},
   "outputs": [],
   "source": [
    "display(scrape_song_url(url))"
   ]
  },
  {
   "cell_type": "markdown",
   "metadata": {},
   "source": [
    "### Interacting with the API"
   ]
  },
  {
   "cell_type": "markdown",
   "metadata": {},
   "source": [
    "For the final challenge (you knew this was coming), you will be given a song ID of a very important song in music history. You will then have to make a couple calls to the API in order to answer these questions:\n",
    "\n",
    "- What song is this?\n",
    "- Who is it by?\n",
    "- What is the artist's Instagram handle?\n",
    "- What are the song's lyrics?"
   ]
  },
  {
   "cell_type": "markdown",
   "metadata": {},
   "source": [
    "The song id is: <b>5603</b>"
   ]
  },
  {
   "cell_type": "code",
   "execution_count": null,
   "metadata": {},
   "outputs": [],
   "source": []
  },
  {
   "cell_type": "code",
   "execution_count": null,
   "metadata": {},
   "outputs": [],
   "source": []
  },
  {
   "cell_type": "code",
   "execution_count": null,
   "metadata": {},
   "outputs": [],
   "source": []
  },
  {
   "cell_type": "code",
   "execution_count": null,
   "metadata": {},
   "outputs": [],
   "source": []
  },
  {
   "cell_type": "code",
   "execution_count": null,
   "metadata": {},
   "outputs": [],
   "source": []
  },
  {
   "cell_type": "code",
   "execution_count": null,
   "metadata": {},
   "outputs": [],
   "source": []
  },
  {
   "cell_type": "code",
   "execution_count": null,
   "metadata": {},
   "outputs": [],
   "source": []
  },
  {
   "cell_type": "code",
   "execution_count": null,
   "metadata": {},
   "outputs": [],
   "source": []
  },
  {
   "cell_type": "code",
   "execution_count": null,
   "metadata": {},
   "outputs": [],
   "source": []
  },
  {
   "cell_type": "code",
   "execution_count": null,
   "metadata": {},
   "outputs": [],
   "source": []
  },
  {
   "cell_type": "code",
   "execution_count": null,
   "metadata": {},
   "outputs": [],
   "source": []
  }
 ],
 "metadata": {
  "kernelspec": {
   "display_name": "Python 3",
   "language": "python",
   "name": "python3"
  },
  "language_info": {
   "codemirror_mode": {
    "name": "ipython",
    "version": 3
   },
   "file_extension": ".py",
   "mimetype": "text/x-python",
   "name": "python",
   "nbconvert_exporter": "python",
   "pygments_lexer": "ipython3",
   "version": "3.5.6"
  }
 },
 "nbformat": 4,
 "nbformat_minor": 2
}
