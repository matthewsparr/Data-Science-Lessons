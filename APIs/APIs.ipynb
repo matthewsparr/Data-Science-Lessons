{
 "cells": [
  {
   "cell_type": "markdown",
   "metadata": {},
   "source": [
    "# APIs (Application Programming Interfaces)"
   ]
  },
  {
   "cell_type": "markdown",
   "metadata": {},
   "source": [
    "Typical way of getting data (usually JSON or XML)"
   ]
  },
  {
   "cell_type": "markdown",
   "metadata": {},
   "source": [
    "## Think Communication"
   ]
  },
  {
   "cell_type": "markdown",
   "metadata": {},
   "source": [
    "Application to another application:\n",
    "* Send request (with some info/data)\n",
    "* Get response\n",
    "    + data\n",
    "    + service\n",
    "\n",
    "\n",
    "Examples include:\n",
    "\n",
    "- Financial transactions\n",
    "- Posting to Twitter\n",
    "- Controlling IOT\n",
    "\n",
    "Always a software-to-software interaction"
   ]
  },
  {
   "cell_type": "markdown",
   "metadata": {},
   "source": [
    "## Parts on an API"
   ]
  },
  {
   "cell_type": "markdown",
   "metadata": {},
   "source": [
    "* **Access Permissions**\n",
    "    + User allowed to ask?\n",
    "* **API Call/Request**\n",
    "    + Code used to make API call to implement complicated tasks/features\n",
    "    + _Methods_: what questions can we ask?\n",
    "    + _Parameters_: more info to be sent\n",
    "* **Repsonse**\n",
    "    + Result of request"
   ]
  },
  {
   "cell_type": "markdown",
   "metadata": {},
   "source": [
    "## API Types"
   ]
  },
  {
   "cell_type": "markdown",
   "metadata": {
    "heading_collapsed": true
   },
   "source": [
    "### Web"
   ]
  },
  {
   "cell_type": "markdown",
   "metadata": {
    "hidden": true
   },
   "source": [
    "Interface can work at both server or client end\n",
    "\n",
    "Examples:\n",
    "* [Twitter REST API](https://developer.twitter.com/en/docs.html)\n",
    "* [Amazon S3 REST API](https://docs.aws.amazon.com/AmazonS3/latest/API/Welcome.html)"
   ]
  },
  {
   "cell_type": "markdown",
   "metadata": {
    "heading_collapsed": true
   },
   "source": [
    "### Databases"
   ]
  },
  {
   "cell_type": "markdown",
   "metadata": {
    "hidden": true
   },
   "source": [
    "* Pass back data in specific format\n",
    "* Generalizable"
   ]
  },
  {
   "cell_type": "markdown",
   "metadata": {},
   "source": [
    "### Operating Systems"
   ]
  },
  {
   "cell_type": "markdown",
   "metadata": {},
   "source": [
    "### Hardware"
   ]
  },
  {
   "cell_type": "markdown",
   "metadata": {},
   "source": [
    "# Client Server Model"
   ]
  },
  {
   "cell_type": "markdown",
   "metadata": {},
   "source": [
    "Distributed architecture:\n",
    "1. Servers: provide a service\n",
    "    - Usually physically separate from clinet\n",
    "2. Clients: request a service\n",
    "    - hardware or software"
   ]
  },
  {
   "cell_type": "markdown",
   "metadata": {},
   "source": [
    "## Client"
   ]
  },
  {
   "cell_type": "markdown",
   "metadata": {},
   "source": [
    "**Web Example**\n",
    "\n",
    "Defines what user sees, so it must:\n",
    "  + Define the page visuals\n",
    "  + Methods for responding to user interactions"
   ]
  },
  {
   "cell_type": "markdown",
   "metadata": {},
   "source": [
    "## Server"
   ]
  },
  {
   "cell_type": "markdown",
   "metadata": {},
   "source": [
    "**Web Example**\n",
    "\n",
    "Listens to requests (through HTTP):\n",
    "1. Authenticates client/user\n",
    "2. Looks at requests\n",
    "3. Performs actions/processes needed\n",
    "4. Sends response to client (possibly with more data)"
   ]
  },
  {
   "cell_type": "markdown",
   "metadata": {},
   "source": [
    "## Database"
   ]
  },
  {
   "cell_type": "markdown",
   "metadata": {},
   "source": [
    "Can be called from the server to get data for the client"
   ]
  },
  {
   "cell_type": "markdown",
   "metadata": {},
   "source": [
    "# HTTP Requests"
   ]
  },
  {
   "cell_type": "markdown",
   "metadata": {},
   "source": [
    "Specific formatting to make a proper request.\n",
    "\n",
    "Libraries `urllib` & `urllib2` can be complicated 😕"
   ]
  },
  {
   "cell_type": "markdown",
   "metadata": {},
   "source": [
    "## Code Example"
   ]
  },
  {
   "cell_type": "markdown",
   "metadata": {},
   "source": [
    "We can use `requests` library to get web page form data, files, and parameters more easily."
   ]
  },
  {
   "cell_type": "code",
   "execution_count": null,
   "metadata": {
    "ExecuteTime": {
     "end_time": "2019-09-13T17:29:00.774851Z",
     "start_time": "2019-09-13T17:29:00.614789Z"
    }
   },
   "outputs": [],
   "source": [
    "import requests"
   ]
  },
  {
   "cell_type": "code",
   "execution_count": null,
   "metadata": {
    "ExecuteTime": {
     "end_time": "2019-09-13T17:29:15.174869Z",
     "start_time": "2019-09-13T17:29:14.864075Z"
    }
   },
   "outputs": [],
   "source": [
    "# Getting the response from our request \n",
    "resp = requests.get('https://www.google.com')"
   ]
  },
  {
   "cell_type": "code",
   "execution_count": null,
   "metadata": {
    "ExecuteTime": {
     "end_time": "2019-09-13T17:29:33.331808Z",
     "start_time": "2019-09-13T17:29:33.328265Z"
    }
   },
   "outputs": [],
   "source": [
    "type(resp)"
   ]
  },
  {
   "cell_type": "code",
   "execution_count": null,
   "metadata": {
    "ExecuteTime": {
     "end_time": "2019-09-13T17:30:00.660255Z",
     "start_time": "2019-09-13T17:30:00.657403Z"
    }
   },
   "outputs": [],
   "source": [
    "print('Response Code:',resp.status_code)\n",
    "print('Is it OK?',resp.status_code == requests.codes.ok)"
   ]
  },
  {
   "cell_type": "markdown",
   "metadata": {},
   "source": [
    "### Parts of the response"
   ]
  },
  {
   "cell_type": "code",
   "execution_count": null,
   "metadata": {
    "ExecuteTime": {
     "end_time": "2019-09-13T17:30:23.130725Z",
     "start_time": "2019-09-13T17:30:23.128519Z"
    },
    "scrolled": true
   },
   "outputs": [],
   "source": [
    "# Full HTML doc\n",
    "print(resp.text)"
   ]
  },
  {
   "cell_type": "code",
   "execution_count": null,
   "metadata": {
    "ExecuteTime": {
     "end_time": "2019-09-13T17:31:08.256553Z",
     "start_time": "2019-09-13T17:31:08.251794Z"
    }
   },
   "outputs": [],
   "source": [
    "display(resp.headers)\n",
    "# Convert to a dicitonary from `requests.structures.CaseInsensitiveDict`\n",
    "headers = dict(resp.headers)"
   ]
  },
  {
   "cell_type": "code",
   "execution_count": null,
   "metadata": {
    "ExecuteTime": {
     "end_time": "2019-09-13T17:31:42.167703Z",
     "start_time": "2019-09-13T17:31:42.165383Z"
    },
    "scrolled": true
   },
   "outputs": [],
   "source": [
    "print(headers['Date'])   # Date the response was sent\n",
    "print(headers['Server']) # Server type (google web service - GWS)"
   ]
  },
  {
   "cell_type": "markdown",
   "metadata": {},
   "source": [
    "### Passing Parameters"
   ]
  },
  {
   "cell_type": "code",
   "execution_count": null,
   "metadata": {
    "ExecuteTime": {
     "end_time": "2019-09-13T17:34:30.406768Z",
     "start_time": "2019-09-13T17:34:30.226803Z"
    }
   },
   "outputs": [],
   "source": [
    "credentials = {'user_name': 'luigi', 'password': 'i<3peach'}  \n",
    "r = requests.get('http://httpbin.org/get', params=credentials)\n",
    "\n",
    "# Note we can only do this since the r.text() is JSON format\n",
    "results = r.json()\n",
    "# Don't want my IP floating around 😉\n",
    "results['origin'] = None\n",
    "\n",
    "print(r.url)  \n",
    "display(results)\n"
   ]
  },
  {
   "cell_type": "markdown",
   "metadata": {},
   "source": [
    "### HTTP Post"
   ]
  },
  {
   "cell_type": "markdown",
   "metadata": {},
   "source": [
    "Allows multiples be sent at once "
   ]
  },
  {
   "cell_type": "code",
   "execution_count": null,
   "metadata": {
    "ExecuteTime": {
     "end_time": "2019-09-13T17:35:34.051364Z",
     "start_time": "2019-09-13T17:35:33.529393Z"
    }
   },
   "outputs": [],
   "source": [
    "# Example won't run without example files\n",
    "url = 'http://httpbin.org/post'  \n",
    "file_list = [  \n",
    "    ('image', ('cat.png', open('cat.png', 'rb'), 'image/png')),\n",
    "    ('image', ('dog.jpg', open('dog.jpg', 'rb'), 'image/jpg'))\n",
    "]\n",
    "\n",
    "r = requests.post(url, files=file_list)  \n",
    "print(r.text)"
   ]
  },
  {
   "cell_type": "markdown",
   "metadata": {},
   "source": [
    "# OAuth (Open Authorization)"
   ]
  },
  {
   "cell_type": "markdown",
   "metadata": {},
   "source": [
    "Avoid abuse by limiting.\n",
    "\n",
    "Usually we can use personal access tokens (typical for development).\n",
    "But with large number of authentication, OAuth is most common"
   ]
  },
  {
   "cell_type": "markdown",
   "metadata": {},
   "source": [
    "1. Get credentials & authorize application (before OAuth)\n",
    "2. **Authorize** permissions requested\n",
    "3. **Redirect** use back w/ authorization code\n",
    "4. **Aquisition** user \"recieves\" access token\n",
    "\n",
    "Check out curriculum for full details"
   ]
  },
  {
   "cell_type": "markdown",
   "metadata": {},
   "source": [
    "## Why use OAuth?"
   ]
  },
  {
   "cell_type": "markdown",
   "metadata": {},
   "source": [
    "Alternative is essentially a username & password (API key & secret)\n",
    "\n",
    "Allows access without user password:\n",
    "**Authentication** separated from **Authorization**"
   ]
  },
  {
   "cell_type": "markdown",
   "metadata": {},
   "source": [
    "# Example Using An API"
   ]
  },
  {
   "cell_type": "markdown",
   "metadata": {},
   "source": [
    "## LIFX API"
   ]
  },
  {
   "cell_type": "markdown",
   "metadata": {},
   "source": [
    "Documentation: https://api.developer.lifx.com/"
   ]
  },
  {
   "cell_type": "code",
   "execution_count": null,
   "metadata": {
    "ExecuteTime": {
     "end_time": "2019-06-20T22:41:25.919727Z",
     "start_time": "2019-06-20T22:41:25.916123Z"
    }
   },
   "outputs": [],
   "source": [
    "import requests\n",
    "import json\n",
    "import pandas as pd"
   ]
  },
  {
   "cell_type": "code",
   "execution_count": null,
   "metadata": {},
   "outputs": [],
   "source": [
    "tokens = {\n",
    "        'lifx' : {\n",
    "            'token_name': 'Lifx',\n",
    "            'token': 'c33cf42e79aaf8afc8b647e13b07ff9fe668587c41c722ae6896462f835190ab',\n",
    "        }\n",
    "}"
   ]
  },
  {
   "cell_type": "code",
   "execution_count": null,
   "metadata": {
    "ExecuteTime": {
     "end_time": "2019-06-20T22:41:46.177401Z",
     "start_time": "2019-06-20T22:41:45.179862Z"
    }
   },
   "outputs": [],
   "source": [
    "# Specific to today\n",
    "token = tokens['lifx']['token']\n",
    "\n",
    "headers = {\n",
    "    \"Authorization\": \"Bearer %s\" % token,\n",
    "}\n",
    "\n",
    "response = requests.get('https://api.lifx.com/v1/lights/all', headers=headers)"
   ]
  },
  {
   "cell_type": "code",
   "execution_count": null,
   "metadata": {
    "ExecuteTime": {
     "end_time": "2019-06-20T22:42:00.942580Z",
     "start_time": "2019-06-20T22:42:00.932151Z"
    },
    "scrolled": true
   },
   "outputs": [],
   "source": [
    "lights = response.json()\n",
    "display(lights)"
   ]
  },
  {
   "cell_type": "code",
   "execution_count": null,
   "metadata": {
    "ExecuteTime": {
     "end_time": "2019-06-20T22:43:51.419665Z",
     "start_time": "2019-06-20T22:43:51.044401Z"
    }
   },
   "outputs": [],
   "source": [
    "pd.DataFrame.from_dict(lights)"
   ]
  },
  {
   "cell_type": "code",
   "execution_count": null,
   "metadata": {
    "ExecuteTime": {
     "end_time": "2019-06-20T22:44:49.614039Z",
     "start_time": "2019-06-20T22:44:49.611702Z"
    },
    "scrolled": true
   },
   "outputs": [],
   "source": [
    "for light in lights:\n",
    "    print(light['label'])"
   ]
  },
  {
   "cell_type": "markdown",
   "metadata": {
    "ExecuteTime": {
     "end_time": "2019-05-28T16:41:16.709260Z",
     "start_time": "2019-05-28T16:41:16.346170Z"
    }
   },
   "source": [
    "### Power On"
   ]
  },
  {
   "cell_type": "code",
   "execution_count": null,
   "metadata": {
    "ExecuteTime": {
     "end_time": "2019-06-20T22:45:33.691294Z",
     "start_time": "2019-06-20T22:45:31.796663Z"
    }
   },
   "outputs": [],
   "source": [
    "payload = {\n",
    "  \"states\": [\n",
    "    {\n",
    "        \"selector\" : str(lights[1]['id']),\n",
    "        \"power\": \"on\"\n",
    "    }\n",
    "  ]\n",
    "}\n",
    "response = requests.put('https://api.lifx.com/v1/lights/states', data=json.dumps(payload), headers=headers)\n",
    "print(response.content)"
   ]
  },
  {
   "cell_type": "markdown",
   "metadata": {},
   "source": [
    "### Power On w/ Color"
   ]
  },
  {
   "cell_type": "code",
   "execution_count": null,
   "metadata": {
    "ExecuteTime": {
     "end_time": "2019-06-20T22:51:52.546412Z",
     "start_time": "2019-06-20T22:51:50.716415Z"
    }
   },
   "outputs": [],
   "source": [
    "payload = {\n",
    "  \"states\": [\n",
    "    {\n",
    "        \"selector\" : str(lights[1]['id']),\n",
    "            \"period\": 2,\n",
    "            \"cycles\": 5,\n",
    "            \"color\": \"blue\",\n",
    "            \"brightness\": 0.5\n",
    "    }\n",
    "  ],\n",
    "  \"defaults\": {\n",
    "    \"power\": \"on\",\n",
    "    \"saturation\": 0,\n",
    "    \"duration\": 2.0\n",
    "\n",
    "}\n",
    "\n",
    "}\n",
    "\n",
    "response = requests.put('https://api.lifx.com/v1/lights/states', data=json.dumps(payload), headers=headers)\n",
    "print(response.content)"
   ]
  },
  {
   "cell_type": "markdown",
   "metadata": {},
   "source": [
    "### Power Off"
   ]
  },
  {
   "cell_type": "code",
   "execution_count": null,
   "metadata": {
    "ExecuteTime": {
     "end_time": "2019-06-20T22:46:40.911154Z",
     "start_time": "2019-06-20T22:46:38.788945Z"
    }
   },
   "outputs": [],
   "source": [
    "payload = {\n",
    "  \"states\": [\n",
    "    {\n",
    "        \"selector\" : str(lights[1]['id']),\n",
    "        \"power\": \"off\"\n",
    "    }\n",
    "  ]\n",
    "}\n",
    "\n",
    "response = requests.put('https://api.lifx.com/v1/lights/states', data=json.dumps(payload), headers=headers)\n",
    "print(response.content)"
   ]
  },
  {
   "cell_type": "code",
   "execution_count": null,
   "metadata": {},
   "outputs": [],
   "source": []
  }
 ],
 "metadata": {
  "kernelspec": {
   "display_name": "Python 3",
   "language": "python",
   "name": "python3"
  },
  "language_info": {
   "codemirror_mode": {
    "name": "ipython",
    "version": 3
   },
   "file_extension": ".py",
   "mimetype": "text/x-python",
   "name": "python",
   "nbconvert_exporter": "python",
   "pygments_lexer": "ipython3",
   "version": "3.6.7"
  },
  "toc": {
   "base_numbering": 1,
   "nav_menu": {},
   "number_sections": true,
   "sideBar": true,
   "skip_h1_title": false,
   "title_cell": "Table of Contents",
   "title_sidebar": "Contents",
   "toc_cell": false,
   "toc_position": {},
   "toc_section_display": true,
   "toc_window_display": false
  },
  "varInspector": {
   "cols": {
    "lenName": 16,
    "lenType": 16,
    "lenVar": 40
   },
   "kernels_config": {
    "python": {
     "delete_cmd_postfix": "",
     "delete_cmd_prefix": "del ",
     "library": "var_list.py",
     "varRefreshCmd": "print(var_dic_list())"
    },
    "r": {
     "delete_cmd_postfix": ") ",
     "delete_cmd_prefix": "rm(",
     "library": "var_list.r",
     "varRefreshCmd": "cat(var_dic_list()) "
    }
   },
   "types_to_exclude": [
    "module",
    "function",
    "builtin_function_or_method",
    "instance",
    "_Feature"
   ],
   "window_display": false
  }
 },
 "nbformat": 4,
 "nbformat_minor": 2
}
