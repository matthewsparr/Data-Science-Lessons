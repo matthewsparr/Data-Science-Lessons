{
 "cells": [
  {
   "cell_type": "markdown",
   "metadata": {},
   "source": [
    "## What is an API?\n",
    "\n",
    "\n",
    "No, seriously. What is an API?\n",
    "\n",
    "\n",
    "Give some film and literary metaphors for an API.\n",
    "\n",
    "\n",
    "Describe real API's you've seen."
   ]
  },
  {
   "cell_type": "markdown",
   "metadata": {},
   "source": [
    "<img src='raven.jpg'>"
   ]
  },
  {
   "cell_type": "markdown",
   "metadata": {},
   "source": [
    "## Parts of an API\n",
    "\n",
    "* **Access Permissions**\n",
    "    + User allowed to ask?\n",
    "    \n",
    "* **API Call/Request**\n",
    "    + Code used to make API call to implement complicated tasks/features\n",
    "    + _Methods_: what questions can we ask?\n",
    "    + _Parameters_: more info to be sent\n",
    "    \n",
    "* **Repsonse**\n",
    "    + Result of request"
   ]
  },
  {
   "cell_type": "markdown",
   "metadata": {},
   "source": [
    "## API Types\n"
   ]
  },
  {
   "cell_type": "markdown",
   "metadata": {},
   "source": [
    "### Web\n",
    "\n",
    "\n",
    "Interface can work at both server or client end\n",
    "\n",
    "Examples:\n",
    "* [Twitter REST API](https://developer.twitter.com/en/docs.html)\n",
    "* [Amazon S3 REST API](https://docs.aws.amazon.com/AmazonS3/latest/API/Welcome.html)"
   ]
  },
  {
   "cell_type": "markdown",
   "metadata": {},
   "source": [
    "### Databases\n",
    "\n",
    "* Pass back data in specific format\n",
    "* Generalizable"
   ]
  },
  {
   "cell_type": "markdown",
   "metadata": {},
   "source": [
    "### Operating Systems\n",
    "\n",
    "* Including the services requested from the OS"
   ]
  },
  {
   "cell_type": "markdown",
   "metadata": {},
   "source": [
    "## Client - Server Model"
   ]
  },
  {
   "cell_type": "markdown",
   "metadata": {},
   "source": [
    "Distributed architecture:\n",
    "1. Servers: provide a service\n",
    "    - Usually physically separate from clinet\n",
    "2. Clients: request a service\n",
    "    - hardware or software"
   ]
  },
  {
   "cell_type": "markdown",
   "metadata": {},
   "source": [
    "### Client\n",
    "\n",
    "**Web Example**\n",
    "\n",
    "Defines what user sees, so it must:\n",
    "  + Define the page visuals\n",
    "  + Methods for responding to user interactions"
   ]
  },
  {
   "cell_type": "markdown",
   "metadata": {},
   "source": [
    "### Server\n",
    "\n",
    "**Web Example**\n",
    "\n",
    "Listens to requests (through HTTP):\n",
    "1. Authenticates client/user\n",
    "2. Looks at requests\n",
    "3. Performs actions/processes needed\n",
    "4. Sends response to client (possibly with more data)"
   ]
  },
  {
   "cell_type": "markdown",
   "metadata": {},
   "source": [
    "### Databases\n",
    "\n",
    "Can be called from the server to get data for the client"
   ]
  }
 ],
 "metadata": {
  "kernelspec": {
   "display_name": "Python 3",
   "language": "python",
   "name": "python3"
  },
  "language_info": {
   "codemirror_mode": {
    "name": "ipython",
    "version": 3
   },
   "file_extension": ".py",
   "mimetype": "text/x-python",
   "name": "python",
   "nbconvert_exporter": "python",
   "pygments_lexer": "ipython3",
   "version": "3.5.6"
  }
 },
 "nbformat": 4,
 "nbformat_minor": 2
}
