{
 "cells": [
  {
   "cell_type": "markdown",
   "metadata": {
    "colab_type": "text",
    "heading_collapsed": true,
    "id": "tevYHP-_8og5"
   },
   "source": [
    "# Intro to Object Oriented Programming"
   ]
  },
  {
   "cell_type": "markdown",
   "metadata": {
    "colab_type": "text",
    "heading_collapsed": true,
    "hidden": true,
    "id": "KhOoAnWZ87vZ"
   },
   "source": [
    "## How is/was programming structured?"
   ]
  },
  {
   "cell_type": "markdown",
   "metadata": {
    "colab_type": "text",
    "hidden": true,
    "id": "K1uNhiKylQkL"
   },
   "source": [
    "* Procedural: Just a bunch of code (runs downward) \n",
    "  - C, Lisp, Fortran \n",
    "  - GOTO\n",
    "* Functional: more mathematical\n",
    "  - Haskell, OCaml\n",
    "* OOP\n",
    "  - Java, Python, JavaScript"
   ]
  },
  {
   "cell_type": "markdown",
   "metadata": {
    "colab_type": "text",
    "heading_collapsed": true,
    "hidden": true,
    "id": "okWV1Dr4-mei"
   },
   "source": [
    "## What is OOP?"
   ]
  },
  {
   "cell_type": "markdown",
   "metadata": {
    "colab_type": "text",
    "heading_collapsed": true,
    "hidden": true,
    "id": "_OUAUdF5-p-x"
   },
   "source": [
    "### Uses the concept of \"objects\" & \"classes\""
   ]
  },
  {
   "cell_type": "markdown",
   "metadata": {
    "colab_type": "text",
    "heading_collapsed": true,
    "hidden": true,
    "id": "GSxOdT-X-yCp"
   },
   "source": [
    "### Using a mold or blueprint"
   ]
  },
  {
   "cell_type": "markdown",
   "metadata": {
    "colab_type": "text",
    "hidden": true,
    "id": "6JCIWmq4qaMQ"
   },
   "source": [
    "<img src='https://www.assignmenthelp.net/assignment_help/images/class-oops.jpg' width=75%/>"
   ]
  },
  {
   "cell_type": "markdown",
   "metadata": {
    "colab_type": "text",
    "hidden": true,
    "id": "XLR8-pxpqgg_"
   },
   "source": [
    "<img src='http://www.expertphp.in/images/articles/ArtImgC67UTd_classes_and_objects.jpg' width=75%/>"
   ]
  },
  {
   "cell_type": "markdown",
   "metadata": {
    "colab_type": "text",
    "heading_collapsed": true,
    "hidden": true,
    "id": "xgb4UxV__jQT"
   },
   "source": [
    "### Attributes of a Class Give Attributes to an Object"
   ]
  },
  {
   "cell_type": "markdown",
   "metadata": {
    "colab_type": "text",
    "heading_collapsed": true,
    "hidden": true,
    "id": "HneufhC69D2K"
   },
   "source": [
    "## Why OOP?\n",
    "\n",
    "Cool, but why should *I* care?"
   ]
  },
  {
   "cell_type": "markdown",
   "metadata": {
    "colab_type": "text",
    "heading_collapsed": true,
    "hidden": true,
    "id": "uLnT7iyo-B0e"
   },
   "source": [
    "### Well, everyone is doing it!\n"
   ]
  },
  {
   "cell_type": "markdown",
   "metadata": {
    "colab_type": "text",
    "hidden": true,
    "id": "pwCs4mdnrHmV"
   },
   "source": [
    "<img src='https://stackify.com/wp-content/uploads/2017/12/Copy-of-top-programming-languages-1.png' width=70%/>"
   ]
  },
  {
   "cell_type": "markdown",
   "metadata": {
    "colab_type": "text",
    "heading_collapsed": true,
    "hidden": true,
    "id": "ms3IyEcA-I-W"
   },
   "source": [
    "### A method (no pun intended) to organize your code with an analogy"
   ]
  },
  {
   "cell_type": "markdown",
   "metadata": {
    "colab_type": "text",
    "hidden": true,
    "id": "2n88FbpfrTF-"
   },
   "source": [
    "We all know what ***Things*** are\n",
    "\n",
    "Easier to breakdown into physical items, activities, concepts [**nouns**]"
   ]
  },
  {
   "cell_type": "markdown",
   "metadata": {
    "colab_type": "text",
    "heading_collapsed": true,
    "hidden": true,
    "id": "oREms3u3-Q6L"
   },
   "source": [
    "### Flexible"
   ]
  },
  {
   "cell_type": "markdown",
   "metadata": {
    "hidden": true
   },
   "source": [
    "We can take a Class (think *blueprint*) and modify it to our needs, mad scientist style!\n",
    "\n",
    "We don't have to reinvent the wheel!"
   ]
  },
  {
   "cell_type": "markdown",
   "metadata": {
    "colab_type": "text",
    "heading_collapsed": true,
    "id": "GPjnI6jk8tzZ"
   },
   "source": [
    "# Classes & Instances"
   ]
  },
  {
   "cell_type": "markdown",
   "metadata": {
    "colab_type": "text",
    "heading_collapsed": true,
    "hidden": true,
    "id": "LOSB70AC_F55"
   },
   "source": [
    "### Creating a Class\n",
    "\n",
    "Class == Blueprint or Mold\n",
    "\n",
    "Instance (your Object) is made from the mold but she's still and individual separate from others made from the same mold"
   ]
  },
  {
   "cell_type": "markdown",
   "metadata": {
    "colab_type": "text",
    "heading_collapsed": true,
    "hidden": true,
    "id": "032liMjNrvmQ"
   },
   "source": [
    "### Simple Code"
   ]
  },
  {
   "cell_type": "markdown",
   "metadata": {},
   "source": [
    "Create an empty class called Robot."
   ]
  },
  {
   "cell_type": "code",
   "execution_count": 1,
   "metadata": {
    "ExecuteTime": {
     "end_time": "2019-09-03T21:26:42.103786Z",
     "start_time": "2019-09-03T21:26:42.101543Z"
    },
    "colab": {},
    "colab_type": "code",
    "hidden": true,
    "id": "1cJl2ydsrtp8"
   },
   "outputs": [],
   "source": [
    "class Robot():\n",
    "    pass"
   ]
  },
  {
   "cell_type": "markdown",
   "metadata": {},
   "source": [
    "Create two robots - Wall-E and Rob - with names and height attributes. Wall-E is 100cm tall and Rob is 200cm tall."
   ]
  },
  {
   "cell_type": "code",
   "execution_count": 3,
   "metadata": {
    "ExecuteTime": {
     "end_time": "2019-09-03T21:26:42.111089Z",
     "start_time": "2019-09-03T21:26:42.108126Z"
    },
    "colab": {},
    "colab_type": "code",
    "hidden": true,
    "id": "BFeR2Q-hsArS"
   },
   "outputs": [],
   "source": [
    "wall_e = Robot()\n",
    "wall_e.name = \"Wall-E\"\n",
    "wall_e.height = 100\n",
    "\n",
    "rob = Robot()\n",
    "rob.name = \"Rob\"\n",
    "rob.height = 200"
   ]
  },
  {
   "cell_type": "markdown",
   "metadata": {},
   "source": [
    "Call the robots to life, printing out their attributes."
   ]
  },
  {
   "cell_type": "code",
   "execution_count": 4,
   "metadata": {
    "ExecuteTime": {
     "end_time": "2019-09-03T21:26:42.115285Z",
     "start_time": "2019-09-03T21:26:42.112622Z"
    },
    "colab": {
     "base_uri": "https://localhost:8080/",
     "height": 51
    },
    "colab_type": "code",
    "hidden": true,
    "id": "A30Q95gusS8U",
    "outputId": "fc8bf769-1142-4ca3-e614-e6097fad9e16"
   },
   "outputs": [
    {
     "name": "stdout",
     "output_type": "stream",
     "text": [
      "Wall-E 100\n",
      "Rob 200\n"
     ]
    }
   ],
   "source": [
    "print(wall_e.name, wall_e.height)\n",
    "print(rob.name, rob.height)"
   ]
  },
  {
   "cell_type": "markdown",
   "metadata": {
    "colab_type": "text",
    "heading_collapsed": true,
    "hidden": true,
    "id": "wXk49lOwr8Qt"
   },
   "source": [
    "### Make a better Class/Mold/Blueprint"
   ]
  },
  {
   "cell_type": "markdown",
   "metadata": {},
   "source": [
    "Make a new Robot class. Give it a default name of Bob, default height of 50cm, and a default 'purpose' attribute of 'To love humans'."
   ]
  },
  {
   "cell_type": "code",
   "execution_count": null,
   "metadata": {
    "ExecuteTime": {
     "end_time": "2019-09-03T21:27:05.025441Z",
     "start_time": "2019-09-03T21:27:05.022730Z"
    },
    "colab": {},
    "colab_type": "code",
    "hidden": true,
    "id": "lSKLy546sKbE"
   },
   "outputs": [],
   "source": [
    "class Robot():\n",
    "    name = 'Bob'\n",
    "    height = 50\n",
    "    purpose = 'To love humans'"
   ]
  },
  {
   "cell_type": "markdown",
   "metadata": {
    "ExecuteTime": {
     "end_time": "2019-09-03T21:27:05.036933Z",
     "start_time": "2019-09-03T21:27:05.033255Z"
    },
    "colab": {
     "base_uri": "https://localhost:8080/",
     "height": 68
    },
    "colab_type": "code",
    "hidden": true,
    "id": "ta3gZ8wWs5AC",
    "outputId": "072c3893-4d64-4451-9637-f93e81938775"
   },
   "source": [
    "Create an evil robot named Bender with the purpose 'TO KILL ALL HUMANS!!!'."
   ]
  },
  {
   "cell_type": "code",
   "execution_count": 6,
   "metadata": {
    "ExecuteTime": {
     "end_time": "2019-09-03T21:27:05.043091Z",
     "start_time": "2019-09-03T21:27:05.039001Z"
    },
    "colab": {
     "base_uri": "https://localhost:8080/",
     "height": 68
    },
    "colab_type": "code",
    "hidden": true,
    "id": "oIYEOFQMtP_u",
    "outputId": "7c49aaa6-aa6f-452d-830d-d439283b89c4"
   },
   "outputs": [],
   "source": [
    "evil_robot = Robot()\n",
    "evil_robot.name = 'Bender'\n",
    "evil_robot.purpose = 'TO KILL ALL HUMANS!!!'"
   ]
  },
  {
   "cell_type": "markdown",
   "metadata": {},
   "source": [
    "Ask Bender what his name and purpose is. Print out his reply."
   ]
  },
  {
   "cell_type": "code",
   "execution_count": 7,
   "metadata": {},
   "outputs": [
    {
     "name": "stdout",
     "output_type": "stream",
     "text": [
      "What is your name? \n",
      "\n",
      "My name is Bender\n",
      "My purpose is TO KILL ALL HUMANS!!!\n"
     ]
    }
   ],
   "source": [
    "print('What is your name? \\n')\n",
    "print('My name is', evil_robot.name)\n",
    "print('My purpose is', evil_robot.purpose)"
   ]
  },
  {
   "cell_type": "markdown",
   "metadata": {},
   "source": [
    "Create Wall-E and Rob again from this new Robot class as well as a default robot."
   ]
  },
  {
   "cell_type": "code",
   "execution_count": 12,
   "metadata": {
    "ExecuteTime": {
     "end_time": "2019-09-03T21:27:05.030868Z",
     "start_time": "2019-09-03T21:27:05.027649Z"
    },
    "colab": {},
    "colab_type": "code",
    "hidden": true,
    "id": "p-L0uMMYs2l7"
   },
   "outputs": [],
   "source": [
    "wall_e = Robot()\n",
    "wall_e.name = 'Wall-E'\n",
    "wall_e.height = 100\n",
    "\n",
    "rob = Robot()\n",
    "rob.name = 'Rob'\n",
    "rob.height = 150"
   ]
  },
  {
   "cell_type": "markdown",
   "metadata": {},
   "source": [
    "Figure out which of the robots is the tallest."
   ]
  },
  {
   "cell_type": "code",
   "execution_count": 13,
   "metadata": {
    "ExecuteTime": {
     "end_time": "2019-09-03T21:27:05.052447Z",
     "start_time": "2019-09-03T21:27:05.049564Z"
    },
    "colab": {
     "base_uri": "https://localhost:8080/",
     "height": 34
    },
    "colab_type": "code",
    "hidden": true,
    "id": "4GTuL4aImMW4",
    "outputId": "4dad34e4-8e2f-45b5-96f5-3bff5cf76765"
   },
   "outputs": [
    {
     "name": "stdout",
     "output_type": "stream",
     "text": [
      "Rob is the tallest robot at 150 cm\n"
     ]
    }
   ],
   "source": [
    "tall_bot = wall_e if wall_e.height > rob.height else rob\n",
    "print(tall_bot.name, 'is the tallest robot at', tall_bot.height, 'cm')"
   ]
  },
  {
   "cell_type": "markdown",
   "metadata": {
    "colab_type": "text",
    "heading_collapsed": true,
    "hidden": true,
    "id": "Ee-dPiBt_UzL"
   },
   "source": [
    "### You're both robots, so you must be the same, right?"
   ]
  },
  {
   "cell_type": "markdown",
   "metadata": {},
   "source": [
    "Wall-E and Rob are both instances of our Robot class. Check if they're equivalent."
   ]
  },
  {
   "cell_type": "code",
   "execution_count": 14,
   "metadata": {
    "ExecuteTime": {
     "end_time": "2019-09-03T21:27:05.056535Z",
     "start_time": "2019-09-03T21:27:05.053802Z"
    },
    "colab": {
     "base_uri": "https://localhost:8080/",
     "height": 68
    },
    "colab_type": "code",
    "hidden": true,
    "id": "AsR5SjyZoGkO",
    "outputId": "c249fe22-6f49-4d8b-e8d9-a942298493d8"
   },
   "outputs": [
    {
     "data": {
      "text/plain": [
       "False"
      ]
     },
     "execution_count": 14,
     "metadata": {},
     "output_type": "execute_result"
    }
   ],
   "source": [
    "wall_e == rob"
   ]
  },
  {
   "cell_type": "markdown",
   "metadata": {},
   "source": [
    "Create two generic, default robots. Check if they're equivalent."
   ]
  },
  {
   "cell_type": "code",
   "execution_count": 22,
   "metadata": {
    "ExecuteTime": {
     "end_time": "2019-09-03T21:27:05.067585Z",
     "start_time": "2019-09-03T21:27:05.064138Z"
    },
    "colab": {
     "base_uri": "https://localhost:8080/",
     "height": 85
    },
    "colab_type": "code",
    "hidden": true,
    "id": "hac7WhjruOPr",
    "outputId": "41980895-105f-44d8-f9c8-29f6436e372b"
   },
   "outputs": [
    {
     "data": {
      "text/plain": [
       "False"
      ]
     },
     "execution_count": 22,
     "metadata": {},
     "output_type": "execute_result"
    }
   ],
   "source": [
    "default1 = Robot()\n",
    "default1.name = 'Bob'\n",
    "default2 = Robot()\n",
    "default1 == default2"
   ]
  },
  {
   "cell_type": "markdown",
   "metadata": {},
   "source": [
    "Make a copy of the first generic robot. Check if it's the same as its copy."
   ]
  },
  {
   "cell_type": "code",
   "execution_count": 23,
   "metadata": {
    "ExecuteTime": {
     "end_time": "2019-09-03T21:27:05.071405Z",
     "start_time": "2019-09-03T21:27:05.068751Z"
    },
    "colab": {
     "base_uri": "https://localhost:8080/",
     "height": 51
    },
    "colab_type": "code",
    "hidden": true,
    "id": "1Jo4mShFup3I",
    "outputId": "793337aa-d3d5-4d92-ed6c-e1c7d193ad1d"
   },
   "outputs": [
    {
     "data": {
      "text/plain": [
       "True"
      ]
     },
     "execution_count": 23,
     "metadata": {},
     "output_type": "execute_result"
    }
   ],
   "source": [
    "copy_robot = default1\n",
    "copy_robot == default1"
   ]
  },
  {
   "cell_type": "markdown",
   "metadata": {},
   "source": [
    "Check the names of the generic robot and its copy."
   ]
  },
  {
   "cell_type": "code",
   "execution_count": 24,
   "metadata": {
    "ExecuteTime": {
     "end_time": "2019-09-03T21:27:05.079398Z",
     "start_time": "2019-09-03T21:27:05.076886Z"
    },
    "colab": {
     "base_uri": "https://localhost:8080/",
     "height": 34
    },
    "colab_type": "code",
    "hidden": true,
    "id": "aTlJTfYHi14s",
    "outputId": "4b69aba4-b11c-4d93-ca78-599e419d2b4e"
   },
   "outputs": [
    {
     "data": {
      "text/plain": [
       "('Bob', 'Bob')"
      ]
     },
     "execution_count": 24,
     "metadata": {},
     "output_type": "execute_result"
    }
   ],
   "source": [
    "default1.name, copy_robot.name"
   ]
  },
  {
   "cell_type": "markdown",
   "metadata": {},
   "source": [
    "Change the copy robot's name to Susan."
   ]
  },
  {
   "cell_type": "code",
   "execution_count": 25,
   "metadata": {},
   "outputs": [],
   "source": [
    "copy_robot.name = 'Susan'"
   ]
  },
  {
   "cell_type": "markdown",
   "metadata": {},
   "source": [
    "Check their names again."
   ]
  },
  {
   "cell_type": "code",
   "execution_count": 26,
   "metadata": {},
   "outputs": [
    {
     "data": {
      "text/plain": [
       "('Susan', 'Susan')"
      ]
     },
     "execution_count": 26,
     "metadata": {},
     "output_type": "execute_result"
    }
   ],
   "source": [
    "default1.name, copy_robot.name"
   ]
  },
  {
   "cell_type": "markdown",
   "metadata": {
    "colab_type": "text",
    "heading_collapsed": true,
    "id": "hikhGgfn8v-R"
   },
   "source": [
    "# An Object's Attributes: Methods, Variables, Self"
   ]
  },
  {
   "cell_type": "markdown",
   "metadata": {
    "colab_type": "text",
    "heading_collapsed": true,
    "hidden": true,
    "id": "q1QLcm_EAQlH"
   },
   "source": [
    "### Giving our robot methods"
   ]
  },
  {
   "cell_type": "markdown",
   "metadata": {},
   "source": [
    "Create a new Robot class. Give it the attributes name, material, is_electric, and num_of_arms with default values None, 'Metal', True, and 2.\n",
    "Also, give it a function called electric_shock that prints '\\*\\*ZAP\\*\\*\\' when called."
   ]
  },
  {
   "cell_type": "code",
   "execution_count": 32,
   "metadata": {
    "ExecuteTime": {
     "end_time": "2019-09-03T21:27:05.082889Z",
     "start_time": "2019-09-03T21:27:05.080683Z"
    },
    "colab": {},
    "colab_type": "code",
    "hidden": true,
    "id": "iMOfi61s3FU2"
   },
   "outputs": [],
   "source": [
    "class Robot():\n",
    "    name = None\n",
    "    material = 'metal'\n",
    "    is_electric = True\n",
    "    num_of_arms = 2\n",
    "    \n",
    "    def electric_shock():\n",
    "        print('**ZAP**')"
   ]
  },
  {
   "cell_type": "markdown",
   "metadata": {},
   "source": [
    "Call the electric_shock method on the class."
   ]
  },
  {
   "cell_type": "code",
   "execution_count": 33,
   "metadata": {
    "ExecuteTime": {
     "end_time": "2019-09-03T21:27:05.087192Z",
     "start_time": "2019-09-03T21:27:05.084225Z"
    },
    "colab": {
     "base_uri": "https://localhost:8080/",
     "height": 119
    },
    "colab_type": "code",
    "hidden": true,
    "id": "pNJkmPe13zLz",
    "outputId": "11b61cce-ee67-4bec-9a3e-e1bdee909e4a"
   },
   "outputs": [
    {
     "name": "stdout",
     "output_type": "stream",
     "text": [
      "**ZAP**\n"
     ]
    }
   ],
   "source": [
    "Robot.electric_shock()"
   ]
  },
  {
   "cell_type": "markdown",
   "metadata": {},
   "source": [
    "#### But what if we want our individual robot to zap us?"
   ]
  },
  {
   "cell_type": "markdown",
   "metadata": {},
   "source": [
    "Make a new robot from the above class. Try calling electric_shock on it."
   ]
  },
  {
   "cell_type": "code",
   "execution_count": 35,
   "metadata": {},
   "outputs": [
    {
     "ename": "TypeError",
     "evalue": "electric_shock() takes 0 positional arguments but 1 was given",
     "output_type": "error",
     "traceback": [
      "\u001b[0;31m---------------------------------------------------------------------------\u001b[0m",
      "\u001b[0;31mTypeError\u001b[0m                                 Traceback (most recent call last)",
      "\u001b[0;32m<ipython-input-35-66368a0f503f>\u001b[0m in \u001b[0;36m<module>\u001b[0;34m()\u001b[0m\n\u001b[1;32m      1\u001b[0m \u001b[0mrobo\u001b[0m \u001b[0;34m=\u001b[0m \u001b[0mRobot\u001b[0m\u001b[0;34m(\u001b[0m\u001b[0;34m)\u001b[0m\u001b[0;34m\u001b[0m\u001b[0m\n\u001b[0;32m----> 2\u001b[0;31m \u001b[0mrobo\u001b[0m\u001b[0;34m.\u001b[0m\u001b[0melectric_shock\u001b[0m\u001b[0;34m(\u001b[0m\u001b[0;34m)\u001b[0m\u001b[0;34m\u001b[0m\u001b[0m\n\u001b[0m",
      "\u001b[0;31mTypeError\u001b[0m: electric_shock() takes 0 positional arguments but 1 was given"
     ]
    }
   ],
   "source": [
    "robo = Robot()\n",
    "robo.electric_shock()"
   ]
  },
  {
   "cell_type": "markdown",
   "metadata": {},
   "source": [
    "### The importance of self"
   ]
  },
  {
   "cell_type": "markdown",
   "metadata": {},
   "source": [
    "Revise the code for the Robot class above. This time, add <b>self</b> as an argument to the electric_shock function."
   ]
  },
  {
   "cell_type": "code",
   "execution_count": 36,
   "metadata": {},
   "outputs": [],
   "source": [
    "class Robot():\n",
    "    name = None\n",
    "    material = 'metal'\n",
    "    is_electric = True\n",
    "    num_of_arms = 2\n",
    "    \n",
    "    def electric_shock(self):\n",
    "        print('**ZAP**')"
   ]
  },
  {
   "cell_type": "markdown",
   "metadata": {},
   "source": [
    "Create a new robot and try running electric_shock on it again."
   ]
  },
  {
   "cell_type": "code",
   "execution_count": 38,
   "metadata": {},
   "outputs": [
    {
     "name": "stdout",
     "output_type": "stream",
     "text": [
      "**ZAP**\n"
     ]
    }
   ],
   "source": [
    "robo = Robot()\n",
    "robo.electric_shock()"
   ]
  },
  {
   "cell_type": "markdown",
   "metadata": {},
   "source": [
    "Modify the Robot class again. This time add a function <b>speak<b> which prints out 'Hello my name is' + the robot's name."
   ]
  },
  {
   "cell_type": "code",
   "execution_count": 45,
   "metadata": {},
   "outputs": [],
   "source": [
    "class Robot():\n",
    "    name = None\n",
    "    material = 'metal'\n",
    "    is_electric = True\n",
    "    num_of_arms = 2\n",
    "    \n",
    "    def electric_shock(self):\n",
    "        print('**ZAP**')\n",
    "        \n",
    "    def speak(self):\n",
    "        print('Hello my name is', self.name)"
   ]
  },
  {
   "cell_type": "markdown",
   "metadata": {},
   "source": [
    "Create a robot, set its name to George, then get it to speak."
   ]
  },
  {
   "cell_type": "code",
   "execution_count": 47,
   "metadata": {},
   "outputs": [
    {
     "name": "stdout",
     "output_type": "stream",
     "text": [
      "Hello my name is George\n"
     ]
    }
   ],
   "source": [
    "george = Robot()\n",
    "george.name = 'George'\n",
    "george.speak()"
   ]
  },
  {
   "cell_type": "markdown",
   "metadata": {},
   "source": [
    "#### Is the robot dumb? It doesn't know its own name.."
   ]
  },
  {
   "cell_type": "markdown",
   "metadata": {},
   "source": [
    "Try again. Modify the speak function to grab <b>self.name</b> instead."
   ]
  },
  {
   "cell_type": "markdown",
   "metadata": {},
   "source": [
    "***"
   ]
  },
  {
   "cell_type": "markdown",
   "metadata": {},
   "source": [
    "***"
   ]
  },
  {
   "cell_type": "markdown",
   "metadata": {
    "heading_collapsed": true,
    "hidden": true
   },
   "source": [
    "# <center>Activity"
   ]
  },
  {
   "cell_type": "markdown",
   "metadata": {},
   "source": [
    "# <center>Build your own robots"
   ]
  },
  {
   "cell_type": "markdown",
   "metadata": {},
   "source": [
    "## <center>Create a Robot class that meets the following criteria: </center>\n",
    "<center>\n",
    "- At least 5 different attributes <br>\n",
    "- At least 3 class functions <br>\n",
    "- Each function should use one or more of the class attributes <br>\n",
    "- Build at least two different versions of the robot<br>\n",
    "</center>"
   ]
  },
  {
   "cell_type": "markdown",
   "metadata": {},
   "source": [
    "## <center>Show and Tell"
   ]
  },
  {
   "cell_type": "markdown",
   "metadata": {},
   "source": [
    "### <center>Show us all your Robot class, the robots you built, and what they can do."
   ]
  },
  {
   "cell_type": "markdown",
   "metadata": {},
   "source": [
    "***"
   ]
  },
  {
   "cell_type": "markdown",
   "metadata": {},
   "source": [
    "***"
   ]
  },
  {
   "cell_type": "markdown",
   "metadata": {},
   "source": [
    "# Initialization"
   ]
  },
  {
   "cell_type": "markdown",
   "metadata": {},
   "source": [
    "### Instead of creating our robots and then modifying their attributes, we can instead program our chosen attributes when we first create an instance of the class."
   ]
  },
  {
   "cell_type": "markdown",
   "metadata": {},
   "source": [
    "## \\_init\\_"
   ]
  },
  {
   "cell_type": "markdown",
   "metadata": {},
   "source": [
    "Add an __init__ method to the Robot class, allowing you to set its attributes."
   ]
  },
  {
   "cell_type": "code",
   "execution_count": null,
   "metadata": {},
   "outputs": [],
   "source": []
  },
  {
   "cell_type": "markdown",
   "metadata": {},
   "source": [
    "Now create a new Robot named Sally that is made of metal, is electric, and has 3 arms."
   ]
  },
  {
   "cell_type": "code",
   "execution_count": null,
   "metadata": {},
   "outputs": [],
   "source": []
  },
  {
   "cell_type": "markdown",
   "metadata": {},
   "source": [
    "Print out Sally's attributes."
   ]
  },
  {
   "cell_type": "code",
   "execution_count": null,
   "metadata": {},
   "outputs": [],
   "source": []
  },
  {
   "cell_type": "markdown",
   "metadata": {},
   "source": [
    "# Inheritance"
   ]
  },
  {
   "cell_type": "markdown",
   "metadata": {},
   "source": [
    "Suppose we want to create a robot and have it battle other creatures."
   ]
  },
  {
   "cell_type": "code",
   "execution_count": null,
   "metadata": {},
   "outputs": [],
   "source": [
    "class Robot():\n",
    "    def __init__(self, name, material, is_electric, num_of_arms, health):\n",
    "        self.name = name\n",
    "        self.material = material\n",
    "        self.is_electric = is_electric\n",
    "        self.num_of_arms = num_of_arms\n",
    "        self.health = health\n",
    "    \n",
    "    def electric_shock(self):\n",
    "        print('***ZAP***')\n",
    "    \n",
    "    def speak(self):\n",
    "        print('Hello my name is', self.name)\n",
    "        \n",
    "    def attack(self):\n",
    "        print(self.name, 'attacks!')\n",
    "    \n",
    "    def defend(self):\n",
    "        print(self.name, 'defends itself!')\n",
    "    \n",
    "    def take_damage(self, damage):\n",
    "        print(self.name, 'took damage!')\n",
    "        self.health = self.health - damage\n",
    "        if self.health<=0:\n",
    "            print(self.name, 'died!')"
   ]
  },
  {
   "cell_type": "code",
   "execution_count": null,
   "metadata": {},
   "outputs": [],
   "source": [
    "bob = Robot('Bob', 'metal', True, 2, 1000)\n",
    "bob.attack()\n",
    "bob.defend()\n",
    "bob.take_damage(1000)"
   ]
  },
  {
   "cell_type": "markdown",
   "metadata": {},
   "source": [
    "Now we want to create another creature, an alien, to fight our robot."
   ]
  },
  {
   "cell_type": "code",
   "execution_count": null,
   "metadata": {},
   "outputs": [],
   "source": [
    "class Alien():\n",
    "    def __init__(self, name, intelligence, health):\n",
    "        self.name = name\n",
    "        self.intelligence = intelligence\n",
    "        self.health = health\n",
    "    \n",
    "    def speak(self):\n",
    "        print('Greetings earthling. I am', self.name, '.')\n",
    "        \n",
    "    def attack(self):\n",
    "        print(self.name, 'attacks!')\n",
    "    \n",
    "    def defend(self):\n",
    "        print(self.name, 'defends itself!')\n",
    "    \n",
    "    def take_damage(self, damage):\n",
    "        print(self.name, 'took damage!')\n",
    "        self.health = self.health - damage\n",
    "        if self.health<=0:\n",
    "            print(self.name, 'died!')"
   ]
  },
  {
   "cell_type": "code",
   "execution_count": null,
   "metadata": {},
   "outputs": [],
   "source": [
    "glok = Alien('Glok', 1000, 100)\n",
    "glok.attack()\n",
    "glok.defend()\n",
    "glok.take_damage(100)"
   ]
  },
  {
   "cell_type": "markdown",
   "metadata": {},
   "source": [
    "But we had to duplicate a lot of code!"
   ]
  },
  {
   "cell_type": "markdown",
   "metadata": {},
   "source": [
    "#### Enter class inheritance."
   ]
  },
  {
   "cell_type": "markdown",
   "metadata": {},
   "source": [
    "Create a new class called Creature. It should have attributes health and name and should have the attack, defend, and take_damage functions as used above."
   ]
  },
  {
   "cell_type": "code",
   "execution_count": null,
   "metadata": {},
   "outputs": [],
   "source": []
  },
  {
   "cell_type": "markdown",
   "metadata": {},
   "source": [
    "Now create the Robot and Alien classes again. This time, pass in Creature into the class creation statement. Also, for the inherited attributes (name, health) be sure to call super().__init__() and pass in those attributes."
   ]
  },
  {
   "cell_type": "code",
   "execution_count": null,
   "metadata": {},
   "outputs": [],
   "source": []
  },
  {
   "cell_type": "code",
   "execution_count": null,
   "metadata": {},
   "outputs": [],
   "source": []
  },
  {
   "cell_type": "markdown",
   "metadata": {},
   "source": [
    "Create Bob and Glok again. Try calling their attack methods."
   ]
  },
  {
   "cell_type": "code",
   "execution_count": null,
   "metadata": {},
   "outputs": [],
   "source": []
  },
  {
   "cell_type": "markdown",
   "metadata": {},
   "source": [
    "Inheritance can behave like Russian nesting dolls. You can have multiple layers of classes inheriting from each other. "
   ]
  },
  {
   "cell_type": "markdown",
   "metadata": {},
   "source": [
    "Suppose we want to create a humanoid robot or android. This robot should be of a new class called Android but should inherit from both the Robot and Creature classes. The Android class should have functions that allow it to sing and to dance and an attribute called singing_skill."
   ]
  },
  {
   "cell_type": "code",
   "execution_count": null,
   "metadata": {},
   "outputs": [],
   "source": []
  },
  {
   "cell_type": "code",
   "execution_count": null,
   "metadata": {},
   "outputs": [],
   "source": []
  },
  {
   "cell_type": "markdown",
   "metadata": {
    "heading_collapsed": true,
    "hidden": true
   },
   "source": [
    "# <center>Activity"
   ]
  },
  {
   "cell_type": "markdown",
   "metadata": {},
   "source": [
    "# <center>Battle to End All Battles\n",
    "\n",
    "So robots have been fun, but I want to see some classic battles!\n",
    "\n",
    "Our goal is to create the most epic battle: **Godzilla vs Mothra**\n",
    "\n",
    "![Black and white picture of Godzilla and Mothra; Mothra flying to the upper left of Godzilla](godzilla_vs_mothra.png)\n",
    "\n",
    "In the end, it should look something like this:\n",
    "    \n",
    "```python\n",
    "mothra.yell_battle_cry()\n",
    "godzilla.yell_battle_cry()\n",
    "\n",
    "winner = mothra.battles(godzilla)\n",
    "\n",
    "print(winner.name)\n",
    "winner.yell_victory_cry()\n",
    "\n",
    "```\n",
    "</center>\n",
    "\n",
    "## But baby steps first!\n",
    "\n",
    "Let's build a Class called [`Megafauna`](https://en.wikipedia.org/wiki/Megafauna) so that we can setup other epic battles besides this one. So [Godzilla](https://en.wikipedia.org/wiki/Godzilla) & [Mothra](https://en.wikipedia.org/wiki/Mothra) will be come from this Class.\n",
    "\n",
    "This `Megafauna` Class should at the very least include these properties & methods: \n",
    "\n",
    "- `animal_type` (mammal, reptile, amphibian, etc.)\n",
    "- `height` (in meters)\n",
    "- `weight` (in kilograms)\n",
    "- `battle_cry` what they should yell at their opponent\n",
    "- `yell_battle_cry()`yell at their opponent (based on their `battle_cry`)\n",
    "- `victory_cry` what they should yell when they win\n",
    "- `yell_victory_cry()` yell their `victory_cry`\n",
    "- `battle()` battles another `Megafauna` Object and returns the winner of the battle (no draws)\n",
    "- `opponents_defeated` a record of what opponents they defeated\n",
    "\n",
    "# STARTER CODE\n",
    "class Megafauna(Object):\n",
    "    # defaults/initiate\n",
    "    # properties\n",
    "    # methods\n",
    "\n",
    "## It's Godzilla!!!\n",
    "\n",
    "Now create `godzilla` with all the necessary parts to take on their rival!\n",
    "\n",
    "# Instantiate your Godzilla Object\n",
    "godzilla = # your code\n",
    "\n",
    "## Create Mothra\n",
    "\n",
    "Now we need the all powerful `mothra` so they challenge the amphibious beast!\n",
    "\n",
    "# Instantiate your Mothra Object\n",
    "mothra = # your code\n",
    "\n",
    "# BATTLE TIME!!!\n",
    "\n",
    "Now let's watch this epic battle!\n",
    "\n",
    "![Stephen Colbert joyfully eating popcorn while wearing red-blue 3D glasses.](eating_popcorn.gif)\n",
    "\n",
    "Code below for their battle below! \n",
    "\n",
    "Make sure the code can print out the winner. Feel free to add any extra flair to the battle!\n",
    "Bonus points to creativity!"
   ]
  },
  {
   "cell_type": "code",
   "execution_count": null,
   "metadata": {},
   "outputs": [],
   "source": []
  }
 ],
 "metadata": {
  "colab": {
   "collapsed_sections": [
    "_OUAUdF5-p-x",
    "xgb4UxV__jQT",
    "oREms3u3-Q6L",
    "LOSB70AC_F55",
    "TXLmvlT__K9y",
    "I6d-VcuulhDy",
    "Ee-dPiBt_UzL",
    "odgi8E10AGuG",
    "Q-fmUUzu9sY8",
    "h-Fs0iZ0A-KW",
    "2rfQ_v1B9zWi",
    "3F4hBda4BLvO",
    "Z96XWroW-Cz-",
    "5s6MKqg8-jSz",
    "CyRRUQXr-oyY",
    "nCiOGnK8BaBK",
    "1x7jUYEF82N6",
    "Y-3m3MHuBUCn",
    "G39MRWq7QTkG"
   ],
   "name": "intro_object_oriented_programming.ipynb",
   "provenance": [],
   "version": "0.3.2"
  },
  "kernelspec": {
   "display_name": "Python 3",
   "language": "python",
   "name": "python3"
  },
  "language_info": {
   "codemirror_mode": {
    "name": "ipython",
    "version": 3
   },
   "file_extension": ".py",
   "mimetype": "text/x-python",
   "name": "python",
   "nbconvert_exporter": "python",
   "pygments_lexer": "ipython3",
   "version": "3.6.6"
  },
  "toc": {
   "base_numbering": 1,
   "nav_menu": {},
   "number_sections": true,
   "sideBar": true,
   "skip_h1_title": false,
   "title_cell": "Table of Contents",
   "title_sidebar": "Contents",
   "toc_cell": false,
   "toc_position": {},
   "toc_section_display": true,
   "toc_window_display": false
  },
  "varInspector": {
   "cols": {
    "lenName": 16,
    "lenType": 16,
    "lenVar": 40
   },
   "kernels_config": {
    "python": {
     "delete_cmd_postfix": "",
     "delete_cmd_prefix": "del ",
     "library": "var_list.py",
     "varRefreshCmd": "print(var_dic_list())"
    },
    "r": {
     "delete_cmd_postfix": ") ",
     "delete_cmd_prefix": "rm(",
     "library": "var_list.r",
     "varRefreshCmd": "cat(var_dic_list()) "
    }
   },
   "types_to_exclude": [
    "module",
    "function",
    "builtin_function_or_method",
    "instance",
    "_Feature"
   ],
   "window_display": false
  }
 },
 "nbformat": 4,
 "nbformat_minor": 2
}
