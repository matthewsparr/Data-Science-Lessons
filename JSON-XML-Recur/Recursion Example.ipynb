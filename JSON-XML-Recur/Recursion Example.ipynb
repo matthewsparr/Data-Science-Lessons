{
 "cells": [
  {
   "cell_type": "code",
   "execution_count": null,
   "metadata": {},
   "outputs": [],
   "source": [
    "relatives = [\"Aubrey's house\", \"Mac's house\", \"Mac's work\", \"Margaret's house\", \"Raymond's work\"]\n",
    "print(relatives)"
   ]
  },
  {
   "cell_type": "code",
   "execution_count": null,
   "metadata": {},
   "outputs": [],
   "source": [
    "def hit_up_for_money (relatives, sum_money=0):\n",
    "    sum_money +=10\n",
    "    if len(relatives) == 1:\n",
    "        print('Lastly, asking for money from', relatives[-1])\n",
    "        return sum_money\n",
    "    else:\n",
    "        print('Asking for money from', relatives[-1])\n",
    "        relatives = relatives[:-1]\n",
    "        return hit_up_for_money(relatives, sum_money)"
   ]
  },
  {
   "cell_type": "code",
   "execution_count": null,
   "metadata": {},
   "outputs": [],
   "source": [
    "hit_up_for_money(relatives)"
   ]
  },
  {
   "cell_type": "code",
   "execution_count": null,
   "metadata": {},
   "outputs": [],
   "source": []
  },
  {
   "cell_type": "code",
   "execution_count": null,
   "metadata": {},
   "outputs": [],
   "source": []
  }
 ],
 "metadata": {
  "kernelspec": {
   "display_name": "Python 3",
   "language": "python",
   "name": "python3"
  },
  "language_info": {
   "codemirror_mode": {
    "name": "ipython",
    "version": 3
   },
   "file_extension": ".py",
   "mimetype": "text/x-python",
   "name": "python",
   "nbconvert_exporter": "python",
   "pygments_lexer": "ipython3",
   "version": "3.7.3"
  }
 },
 "nbformat": 4,
 "nbformat_minor": 2
}
